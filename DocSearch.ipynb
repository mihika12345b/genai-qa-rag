{
 "cells": [
  {
   "cell_type": "code",
   "execution_count": 1,
   "id": "75ca6ca6-9642-4e67-b039-b7b0e9c99b5f",
   "metadata": {},
   "outputs": [
    {
     "name": "stdout",
     "output_type": "stream",
     "text": [
      "Requirement already satisfied: pydantic in /opt/homebrew/Caskroom/miniconda/base/lib/python3.12/site-packages (2.8.2)\n",
      "Requirement already satisfied: annotated-types>=0.4.0 in /opt/homebrew/Caskroom/miniconda/base/lib/python3.12/site-packages (from pydantic) (0.7.0)\n",
      "Requirement already satisfied: pydantic-core==2.20.1 in /opt/homebrew/Caskroom/miniconda/base/lib/python3.12/site-packages (from pydantic) (2.20.1)\n",
      "Requirement already satisfied: typing-extensions>=4.6.1 in /opt/homebrew/Caskroom/miniconda/base/lib/python3.12/site-packages (from pydantic) (4.12.2)\n"
     ]
    }
   ],
   "source": [
    "!pip install pydantic"
   ]
  },
  {
   "cell_type": "code",
   "execution_count": 2,
   "id": "16106bb4-bdde-4bc9-afb0-724f9ad082eb",
   "metadata": {},
   "outputs": [
    {
     "name": "stdout",
     "output_type": "stream",
     "text": [
      "Requirement already satisfied: boto3 in /opt/homebrew/Caskroom/miniconda/base/lib/python3.12/site-packages (1.35.5)\n",
      "Requirement already satisfied: botocore<1.36.0,>=1.35.5 in /opt/homebrew/Caskroom/miniconda/base/lib/python3.12/site-packages (from boto3) (1.35.5)\n",
      "Requirement already satisfied: jmespath<2.0.0,>=0.7.1 in /opt/homebrew/Caskroom/miniconda/base/lib/python3.12/site-packages (from boto3) (1.0.1)\n",
      "Requirement already satisfied: s3transfer<0.11.0,>=0.10.0 in /opt/homebrew/Caskroom/miniconda/base/lib/python3.12/site-packages (from boto3) (0.10.2)\n",
      "Requirement already satisfied: python-dateutil<3.0.0,>=2.1 in /opt/homebrew/Caskroom/miniconda/base/lib/python3.12/site-packages (from botocore<1.36.0,>=1.35.5->boto3) (2.9.0.post0)\n",
      "Requirement already satisfied: urllib3!=2.2.0,<3,>=1.25.4 in /opt/homebrew/Caskroom/miniconda/base/lib/python3.12/site-packages (from botocore<1.36.0,>=1.35.5->boto3) (2.1.0)\n",
      "Requirement already satisfied: six>=1.5 in /opt/homebrew/Caskroom/miniconda/base/lib/python3.12/site-packages (from python-dateutil<3.0.0,>=2.1->botocore<1.36.0,>=1.35.5->boto3) (1.16.0)\n"
     ]
    }
   ],
   "source": [
    "!pip install --upgrade boto3"
   ]
  },
  {
   "cell_type": "code",
   "execution_count": 3,
   "id": "f7da306a-e3c5-4a72-99b9-f166fb08434c",
   "metadata": {},
   "outputs": [
    {
     "name": "stdout",
     "output_type": "stream",
     "text": [
      "Requirement already satisfied: langchain in /opt/homebrew/Caskroom/miniconda/base/lib/python3.12/site-packages (0.2.14)\n",
      "Requirement already satisfied: PyYAML>=5.3 in /opt/homebrew/Caskroom/miniconda/base/lib/python3.12/site-packages (from langchain) (6.0.2)\n",
      "Requirement already satisfied: SQLAlchemy<3,>=1.4 in /opt/homebrew/Caskroom/miniconda/base/lib/python3.12/site-packages (from langchain) (2.0.32)\n",
      "Requirement already satisfied: aiohttp<4.0.0,>=3.8.3 in /opt/homebrew/Caskroom/miniconda/base/lib/python3.12/site-packages (from langchain) (3.10.5)\n",
      "Requirement already satisfied: langchain-core<0.3.0,>=0.2.32 in /opt/homebrew/Caskroom/miniconda/base/lib/python3.12/site-packages (from langchain) (0.2.35)\n",
      "Requirement already satisfied: langchain-text-splitters<0.3.0,>=0.2.0 in /opt/homebrew/Caskroom/miniconda/base/lib/python3.12/site-packages (from langchain) (0.2.2)\n",
      "Requirement already satisfied: langsmith<0.2.0,>=0.1.17 in /opt/homebrew/Caskroom/miniconda/base/lib/python3.12/site-packages (from langchain) (0.1.104)\n",
      "Requirement already satisfied: numpy<2.0.0,>=1.26.0 in /opt/homebrew/Caskroom/miniconda/base/lib/python3.12/site-packages (from langchain) (1.26.4)\n",
      "Requirement already satisfied: pydantic<3,>=1 in /opt/homebrew/Caskroom/miniconda/base/lib/python3.12/site-packages (from langchain) (2.8.2)\n",
      "Requirement already satisfied: requests<3,>=2 in /opt/homebrew/Caskroom/miniconda/base/lib/python3.12/site-packages (from langchain) (2.31.0)\n",
      "Requirement already satisfied: tenacity!=8.4.0,<9.0.0,>=8.1.0 in /opt/homebrew/Caskroom/miniconda/base/lib/python3.12/site-packages (from langchain) (8.5.0)\n",
      "Requirement already satisfied: aiohappyeyeballs>=2.3.0 in /opt/homebrew/Caskroom/miniconda/base/lib/python3.12/site-packages (from aiohttp<4.0.0,>=3.8.3->langchain) (2.4.0)\n",
      "Requirement already satisfied: aiosignal>=1.1.2 in /opt/homebrew/Caskroom/miniconda/base/lib/python3.12/site-packages (from aiohttp<4.0.0,>=3.8.3->langchain) (1.3.1)\n",
      "Requirement already satisfied: attrs>=17.3.0 in /opt/homebrew/Caskroom/miniconda/base/lib/python3.12/site-packages (from aiohttp<4.0.0,>=3.8.3->langchain) (24.2.0)\n",
      "Requirement already satisfied: frozenlist>=1.1.1 in /opt/homebrew/Caskroom/miniconda/base/lib/python3.12/site-packages (from aiohttp<4.0.0,>=3.8.3->langchain) (1.4.1)\n",
      "Requirement already satisfied: multidict<7.0,>=4.5 in /opt/homebrew/Caskroom/miniconda/base/lib/python3.12/site-packages (from aiohttp<4.0.0,>=3.8.3->langchain) (6.0.5)\n",
      "Requirement already satisfied: yarl<2.0,>=1.0 in /opt/homebrew/Caskroom/miniconda/base/lib/python3.12/site-packages (from aiohttp<4.0.0,>=3.8.3->langchain) (1.9.4)\n",
      "Requirement already satisfied: jsonpatch<2.0,>=1.33 in /opt/homebrew/Caskroom/miniconda/base/lib/python3.12/site-packages (from langchain-core<0.3.0,>=0.2.32->langchain) (1.33)\n",
      "Requirement already satisfied: packaging<25,>=23.2 in /opt/homebrew/Caskroom/miniconda/base/lib/python3.12/site-packages (from langchain-core<0.3.0,>=0.2.32->langchain) (23.2)\n",
      "Requirement already satisfied: typing-extensions>=4.7 in /opt/homebrew/Caskroom/miniconda/base/lib/python3.12/site-packages (from langchain-core<0.3.0,>=0.2.32->langchain) (4.12.2)\n",
      "Requirement already satisfied: httpx<1,>=0.23.0 in /opt/homebrew/Caskroom/miniconda/base/lib/python3.12/site-packages (from langsmith<0.2.0,>=0.1.17->langchain) (0.27.0)\n",
      "Requirement already satisfied: orjson<4.0.0,>=3.9.14 in /opt/homebrew/Caskroom/miniconda/base/lib/python3.12/site-packages (from langsmith<0.2.0,>=0.1.17->langchain) (3.10.7)\n",
      "Requirement already satisfied: annotated-types>=0.4.0 in /opt/homebrew/Caskroom/miniconda/base/lib/python3.12/site-packages (from pydantic<3,>=1->langchain) (0.7.0)\n",
      "Requirement already satisfied: pydantic-core==2.20.1 in /opt/homebrew/Caskroom/miniconda/base/lib/python3.12/site-packages (from pydantic<3,>=1->langchain) (2.20.1)\n",
      "Requirement already satisfied: charset-normalizer<4,>=2 in /opt/homebrew/Caskroom/miniconda/base/lib/python3.12/site-packages (from requests<3,>=2->langchain) (2.0.4)\n",
      "Requirement already satisfied: idna<4,>=2.5 in /opt/homebrew/Caskroom/miniconda/base/lib/python3.12/site-packages (from requests<3,>=2->langchain) (3.4)\n",
      "Requirement already satisfied: urllib3<3,>=1.21.1 in /opt/homebrew/Caskroom/miniconda/base/lib/python3.12/site-packages (from requests<3,>=2->langchain) (2.1.0)\n",
      "Requirement already satisfied: certifi>=2017.4.17 in /opt/homebrew/Caskroom/miniconda/base/lib/python3.12/site-packages (from requests<3,>=2->langchain) (2024.2.2)\n",
      "Requirement already satisfied: anyio in /opt/homebrew/Caskroom/miniconda/base/lib/python3.12/site-packages (from httpx<1,>=0.23.0->langsmith<0.2.0,>=0.1.17->langchain) (4.4.0)\n",
      "Requirement already satisfied: httpcore==1.* in /opt/homebrew/Caskroom/miniconda/base/lib/python3.12/site-packages (from httpx<1,>=0.23.0->langsmith<0.2.0,>=0.1.17->langchain) (1.0.5)\n",
      "Requirement already satisfied: sniffio in /opt/homebrew/Caskroom/miniconda/base/lib/python3.12/site-packages (from httpx<1,>=0.23.0->langsmith<0.2.0,>=0.1.17->langchain) (1.3.1)\n",
      "Requirement already satisfied: h11<0.15,>=0.13 in /opt/homebrew/Caskroom/miniconda/base/lib/python3.12/site-packages (from httpcore==1.*->httpx<1,>=0.23.0->langsmith<0.2.0,>=0.1.17->langchain) (0.14.0)\n",
      "Requirement already satisfied: jsonpointer>=1.9 in /opt/homebrew/Caskroom/miniconda/base/lib/python3.12/site-packages (from jsonpatch<2.0,>=1.33->langchain-core<0.3.0,>=0.2.32->langchain) (2.1)\n"
     ]
    }
   ],
   "source": [
    "!pip install --upgrade langchain"
   ]
  },
  {
   "cell_type": "code",
   "execution_count": 4,
   "id": "f0d70021-fc0d-4b0c-ab65-a48d86be7fe6",
   "metadata": {},
   "outputs": [
    {
     "name": "stdout",
     "output_type": "stream",
     "text": [
      "Requirement already satisfied: langchain-community in /opt/homebrew/Caskroom/miniconda/base/lib/python3.12/site-packages (0.2.12)\n",
      "Requirement already satisfied: PyYAML>=5.3 in /opt/homebrew/Caskroom/miniconda/base/lib/python3.12/site-packages (from langchain-community) (6.0.2)\n",
      "Requirement already satisfied: SQLAlchemy<3,>=1.4 in /opt/homebrew/Caskroom/miniconda/base/lib/python3.12/site-packages (from langchain-community) (2.0.32)\n",
      "Requirement already satisfied: aiohttp<4.0.0,>=3.8.3 in /opt/homebrew/Caskroom/miniconda/base/lib/python3.12/site-packages (from langchain-community) (3.10.5)\n",
      "Requirement already satisfied: dataclasses-json<0.7,>=0.5.7 in /opt/homebrew/Caskroom/miniconda/base/lib/python3.12/site-packages (from langchain-community) (0.6.7)\n",
      "Requirement already satisfied: langchain<0.3.0,>=0.2.13 in /opt/homebrew/Caskroom/miniconda/base/lib/python3.12/site-packages (from langchain-community) (0.2.14)\n",
      "Requirement already satisfied: langchain-core<0.3.0,>=0.2.30 in /opt/homebrew/Caskroom/miniconda/base/lib/python3.12/site-packages (from langchain-community) (0.2.35)\n",
      "Requirement already satisfied: langsmith<0.2.0,>=0.1.0 in /opt/homebrew/Caskroom/miniconda/base/lib/python3.12/site-packages (from langchain-community) (0.1.104)\n",
      "Requirement already satisfied: numpy<2.0.0,>=1.26.0 in /opt/homebrew/Caskroom/miniconda/base/lib/python3.12/site-packages (from langchain-community) (1.26.4)\n",
      "Requirement already satisfied: requests<3,>=2 in /opt/homebrew/Caskroom/miniconda/base/lib/python3.12/site-packages (from langchain-community) (2.31.0)\n",
      "Requirement already satisfied: tenacity!=8.4.0,<9.0.0,>=8.1.0 in /opt/homebrew/Caskroom/miniconda/base/lib/python3.12/site-packages (from langchain-community) (8.5.0)\n",
      "Requirement already satisfied: aiohappyeyeballs>=2.3.0 in /opt/homebrew/Caskroom/miniconda/base/lib/python3.12/site-packages (from aiohttp<4.0.0,>=3.8.3->langchain-community) (2.4.0)\n",
      "Requirement already satisfied: aiosignal>=1.1.2 in /opt/homebrew/Caskroom/miniconda/base/lib/python3.12/site-packages (from aiohttp<4.0.0,>=3.8.3->langchain-community) (1.3.1)\n",
      "Requirement already satisfied: attrs>=17.3.0 in /opt/homebrew/Caskroom/miniconda/base/lib/python3.12/site-packages (from aiohttp<4.0.0,>=3.8.3->langchain-community) (24.2.0)\n",
      "Requirement already satisfied: frozenlist>=1.1.1 in /opt/homebrew/Caskroom/miniconda/base/lib/python3.12/site-packages (from aiohttp<4.0.0,>=3.8.3->langchain-community) (1.4.1)\n",
      "Requirement already satisfied: multidict<7.0,>=4.5 in /opt/homebrew/Caskroom/miniconda/base/lib/python3.12/site-packages (from aiohttp<4.0.0,>=3.8.3->langchain-community) (6.0.5)\n",
      "Requirement already satisfied: yarl<2.0,>=1.0 in /opt/homebrew/Caskroom/miniconda/base/lib/python3.12/site-packages (from aiohttp<4.0.0,>=3.8.3->langchain-community) (1.9.4)\n",
      "Requirement already satisfied: marshmallow<4.0.0,>=3.18.0 in /opt/homebrew/Caskroom/miniconda/base/lib/python3.12/site-packages (from dataclasses-json<0.7,>=0.5.7->langchain-community) (3.22.0)\n",
      "Requirement already satisfied: typing-inspect<1,>=0.4.0 in /opt/homebrew/Caskroom/miniconda/base/lib/python3.12/site-packages (from dataclasses-json<0.7,>=0.5.7->langchain-community) (0.9.0)\n",
      "Requirement already satisfied: langchain-text-splitters<0.3.0,>=0.2.0 in /opt/homebrew/Caskroom/miniconda/base/lib/python3.12/site-packages (from langchain<0.3.0,>=0.2.13->langchain-community) (0.2.2)\n",
      "Requirement already satisfied: pydantic<3,>=1 in /opt/homebrew/Caskroom/miniconda/base/lib/python3.12/site-packages (from langchain<0.3.0,>=0.2.13->langchain-community) (2.8.2)\n",
      "Requirement already satisfied: jsonpatch<2.0,>=1.33 in /opt/homebrew/Caskroom/miniconda/base/lib/python3.12/site-packages (from langchain-core<0.3.0,>=0.2.30->langchain-community) (1.33)\n",
      "Requirement already satisfied: packaging<25,>=23.2 in /opt/homebrew/Caskroom/miniconda/base/lib/python3.12/site-packages (from langchain-core<0.3.0,>=0.2.30->langchain-community) (23.2)\n",
      "Requirement already satisfied: typing-extensions>=4.7 in /opt/homebrew/Caskroom/miniconda/base/lib/python3.12/site-packages (from langchain-core<0.3.0,>=0.2.30->langchain-community) (4.12.2)\n",
      "Requirement already satisfied: httpx<1,>=0.23.0 in /opt/homebrew/Caskroom/miniconda/base/lib/python3.12/site-packages (from langsmith<0.2.0,>=0.1.0->langchain-community) (0.27.0)\n",
      "Requirement already satisfied: orjson<4.0.0,>=3.9.14 in /opt/homebrew/Caskroom/miniconda/base/lib/python3.12/site-packages (from langsmith<0.2.0,>=0.1.0->langchain-community) (3.10.7)\n",
      "Requirement already satisfied: charset-normalizer<4,>=2 in /opt/homebrew/Caskroom/miniconda/base/lib/python3.12/site-packages (from requests<3,>=2->langchain-community) (2.0.4)\n",
      "Requirement already satisfied: idna<4,>=2.5 in /opt/homebrew/Caskroom/miniconda/base/lib/python3.12/site-packages (from requests<3,>=2->langchain-community) (3.4)\n",
      "Requirement already satisfied: urllib3<3,>=1.21.1 in /opt/homebrew/Caskroom/miniconda/base/lib/python3.12/site-packages (from requests<3,>=2->langchain-community) (2.1.0)\n",
      "Requirement already satisfied: certifi>=2017.4.17 in /opt/homebrew/Caskroom/miniconda/base/lib/python3.12/site-packages (from requests<3,>=2->langchain-community) (2024.2.2)\n",
      "Requirement already satisfied: anyio in /opt/homebrew/Caskroom/miniconda/base/lib/python3.12/site-packages (from httpx<1,>=0.23.0->langsmith<0.2.0,>=0.1.0->langchain-community) (4.4.0)\n",
      "Requirement already satisfied: httpcore==1.* in /opt/homebrew/Caskroom/miniconda/base/lib/python3.12/site-packages (from httpx<1,>=0.23.0->langsmith<0.2.0,>=0.1.0->langchain-community) (1.0.5)\n",
      "Requirement already satisfied: sniffio in /opt/homebrew/Caskroom/miniconda/base/lib/python3.12/site-packages (from httpx<1,>=0.23.0->langsmith<0.2.0,>=0.1.0->langchain-community) (1.3.1)\n",
      "Requirement already satisfied: h11<0.15,>=0.13 in /opt/homebrew/Caskroom/miniconda/base/lib/python3.12/site-packages (from httpcore==1.*->httpx<1,>=0.23.0->langsmith<0.2.0,>=0.1.0->langchain-community) (0.14.0)\n",
      "Requirement already satisfied: jsonpointer>=1.9 in /opt/homebrew/Caskroom/miniconda/base/lib/python3.12/site-packages (from jsonpatch<2.0,>=1.33->langchain-core<0.3.0,>=0.2.30->langchain-community) (2.1)\n",
      "Requirement already satisfied: annotated-types>=0.4.0 in /opt/homebrew/Caskroom/miniconda/base/lib/python3.12/site-packages (from pydantic<3,>=1->langchain<0.3.0,>=0.2.13->langchain-community) (0.7.0)\n",
      "Requirement already satisfied: pydantic-core==2.20.1 in /opt/homebrew/Caskroom/miniconda/base/lib/python3.12/site-packages (from pydantic<3,>=1->langchain<0.3.0,>=0.2.13->langchain-community) (2.20.1)\n",
      "Requirement already satisfied: mypy-extensions>=0.3.0 in /opt/homebrew/Caskroom/miniconda/base/lib/python3.12/site-packages (from typing-inspect<1,>=0.4.0->dataclasses-json<0.7,>=0.5.7->langchain-community) (1.0.0)\n",
      "Note: you may need to restart the kernel to use updated packages.\n"
     ]
    }
   ],
   "source": [
    "pip install langchain-community"
   ]
  },
  {
   "cell_type": "code",
   "execution_count": 5,
   "id": "94d0dd20-7ce0-4ee5-8e40-043071684494",
   "metadata": {},
   "outputs": [],
   "source": [
    "from langchain_community.llms import SagemakerEndpoint\n",
    "from langchain.docstore.document import Document\n",
    "from langchain.agents import load_tools, initialize_agent, Tool\n",
    "\n",
    "from langchain.agents.react.base import DocstoreExplorer\n",
    "from langchain_community.llms.sagemaker_endpoint import ContentHandlerBase, LLMContentHandler\n",
    "from typing import Dict ,List\n",
    "import json\n",
    "#import Anthropic\n",
    "from langchain.llms import Anthropic\n",
    "from langchain.prompts import StringPromptTemplate\n",
    "from langchain.agents import Tool, AgentExecutor, LLMSingleActionAgent, AgentOutputParser \n",
    "\n",
    "from langchain.agents import Tool, AgentExecutor, LLMSingleActionAgent, AgentOutputParser\n",
    "from langchain.prompts import StringPromptTemplate\n",
    "from langchain import OpenAI, SerpAPIWrapper, LLMChain\n",
    "from typing import List, Union\n",
    "from langchain.schema import AgentAction, AgentFinish\n",
    "from langchain.docstore.base import Docstore\n",
    "import re"
   ]
  },
  {
   "cell_type": "code",
   "execution_count": 6,
   "id": "161bf6e1-131e-495a-8280-3021c3c2ad5f",
   "metadata": {},
   "outputs": [],
   "source": [
    "import boto3\n",
    "boto3_session = boto3.Session(\n",
    "    aws_access_key_id='xyz',\n",
    "    aws_secret_access_key='xyz',\n",
    "    region_name='us-east-1'\n",
    ")\n",
    "kendra_client = boto3_session.client('kendra')\n",
    "kendra_client = boto3.client(\"kendra\", region_name='us-east-1')"
   ]
  },
  {
   "cell_type": "code",
   "execution_count": 7,
   "id": "1e14178d-6a83-4fc9-b9d6-4b3ba382d4b7",
   "metadata": {},
   "outputs": [],
   "source": [
    "import os\n",
    "\n",
    "os.environ.pop('AWS_ACCESS_KEY_ID', None)\n",
    "os.environ.pop('AWS_SECRET_ACCESS_KEY', None)\n",
    "os.environ.pop('AWS_SESSION_TOKEN', None)"
   ]
  },
  {
   "cell_type": "code",
   "execution_count": 8,
   "id": "3ea1a5c2-0940-4e12-9f0b-bb45006e2959",
   "metadata": {},
   "outputs": [
    {
     "name": "stdout",
     "output_type": "stream",
     "text": [
      "Requirement already satisfied: boto3 in /opt/homebrew/Caskroom/miniconda/base/lib/python3.12/site-packages (1.35.5)\n",
      "Requirement already satisfied: botocore in /opt/homebrew/Caskroom/miniconda/base/lib/python3.12/site-packages (1.35.5)\n",
      "Requirement already satisfied: jmespath<2.0.0,>=0.7.1 in /opt/homebrew/Caskroom/miniconda/base/lib/python3.12/site-packages (from boto3) (1.0.1)\n",
      "Requirement already satisfied: s3transfer<0.11.0,>=0.10.0 in /opt/homebrew/Caskroom/miniconda/base/lib/python3.12/site-packages (from boto3) (0.10.2)\n",
      "Requirement already satisfied: python-dateutil<3.0.0,>=2.1 in /opt/homebrew/Caskroom/miniconda/base/lib/python3.12/site-packages (from botocore) (2.9.0.post0)\n",
      "Requirement already satisfied: urllib3!=2.2.0,<3,>=1.25.4 in /opt/homebrew/Caskroom/miniconda/base/lib/python3.12/site-packages (from botocore) (2.1.0)\n",
      "Requirement already satisfied: six>=1.5 in /opt/homebrew/Caskroom/miniconda/base/lib/python3.12/site-packages (from python-dateutil<3.0.0,>=2.1->botocore) (1.16.0)\n"
     ]
    }
   ],
   "source": [
    "!pip install --upgrade boto3 botocore"
   ]
  },
  {
   "cell_type": "code",
   "execution_count": 32,
   "id": "040d4ae8-c9b8-4f27-802d-ff25db20c763",
   "metadata": {},
   "outputs": [],
   "source": [
    "class Kendra(Docstore):\n",
    "    \"\"\"Kendra API Wrapper to search consulting documents.\"\"\"\n",
    "\n",
    "    def __init__(self, kendra_index_id: str, region_name: str) -> None:\n",
    "        \"\"\"Init Kendra client.\"\"\"\n",
    "        \n",
    "        self.kendra_index_id = kendra_index_id\n",
    "        \n",
    "        try:\n",
    "            import boto3\n",
    "            self.kendra_client = boto3.client(\"kendra\", region_name=region_name)\n",
    "        except ImportError:\n",
    "            raise ValueError(\n",
    "                \"Could not import boto3 python package\"\n",
    "            )\n",
    "\n",
    "    def search(self, query: str) -> str:\n",
    "        \"\"\"Searching for document in Kendra Index and returning content.\"\"\"\n",
    "        try:\n",
    "            result = self.kendra_client.retrieve(\n",
    "                IndexId=self.kendra_index_id,\n",
    "                QueryText=query,\n",
    "                PageSize=2,\n",
    "            )\n",
    "            print(\"Debug: Full result object from Kendra:\", result)\n",
    "        except self.kendra_client.exceptions.ResourceNotFoundException as e:\n",
    "            return \"Kendra index not found: {}\".format(e)\n",
    "        except self.kendra_client.exceptions.ValidationException as e:\n",
    "            return \"Invalid query: {}\".format(e)\n",
    "        except Exception as e:\n",
    "            return \"An error occurred: {}\".format(e)\n",
    "\n",
    "        if not result[\"ResultItems\"]:\n",
    "            print(\"Debug: No ResultItems returned from Kendra query.\")\n",
    "            return \"No relevant passages found.\"\n",
    "\n",
    "        # adding all results together\n",
    "        content = \"\"\n",
    "        for item in result[\"ResultItems\"]:\n",
    "            title = item.get(\"DocumentTitle\", \"No title\")\n",
    "            uri = item.get(\"DocumentURI\", \"No URI\")\n",
    "            passage = item.get(\"Content\", \"No content\")\n",
    "            content += f\"[Title: {title}, URI: {uri}, Passage content: {passage}] \"\n",
    "        \n",
    "        print(\"Debug: Content retrieved from Kendra:\", content)\n",
    "        return content\n",
    "\n",
    "kendra_docstore = Kendra(kendra_index_id=\"0044a5c2-b5fe-4ed1-a8a6-e025cf50d589\", region_name='us-east-1')"
   ]
  },
  {
   "cell_type": "code",
   "execution_count": 35,
   "id": "4e65a1f4-00ab-4ab6-a7db-76d993137506",
   "metadata": {},
   "outputs": [
    {
     "name": "stdout",
     "output_type": "stream",
     "text": [
      "Debug: Full result object from Kendra: {'QueryId': 'a61438ee-8f87-4556-8b6b-0db617b27a70', 'ResultItems': [{'Id': 'a61438ee-8f87-4556-8b6b-0db617b27a70-7c8f264e-e1ee-4fe7-bae6-be0dc973d6af', 'DocumentId': 's3://docs-consulting/documents/c2.pdf', 'DocumentTitle': 'c2', 'Content': 'While most are taking immediate action to regain balance, their focus is on the short term. To address the root of their problems, they should follow the counsel they would give their clients: Take a step back to reassess. Consulting firms should hone back in on the fundamentals, reset around the core principles of top-management consulting, and use transformative innovations, particularly AI, to refocus on their top-management product and service offerings. In so doing, they should also rethink the breadth and depth of those practices and support infrastructures. Staff behind demand. It’s time to take advantage of the retrenchment in staff numbers and greater client selectivity to staff their firms in response to demand. Growth goals should return to a method of deriving from––not providing the primary impetus for––firm management goals. Adapt governance. The massive increase in scale of today’s partnerships requires revised firm processes to balance the wishes of distributed, independent partners with the centralized oversight needed to manage growth, ensure risk compliance, and maintain firm cultures. Embrace the return to meritocracy while (re)building internal trust. While firms need to execute short-term actions to get in balance, they must also acknowledge the need to work far harder and longer term to rebuild the trust of the associates who are rightfully wary of their true commitment to the apprenticeship model and employees’ future.', 'DocumentURI': 'https://s3.us-east-1.amazonaws.com/docs-consulting/documents/c2.pdf', 'DocumentAttributes': [{'Key': '_source_uri', 'Value': {'StringValue': 'https://s3.us-east-1.amazonaws.com/docs-consulting/documents/c2.pdf'}}], 'ScoreAttributes': {'ScoreConfidence': 'LOW'}}, {'Id': 'a61438ee-8f87-4556-8b6b-0db617b27a70-eeff58fe-77b3-4d9b-bd87-ef6f2e66ef7e', 'DocumentId': 's3://docs-consulting/documents/c2.pdf', 'DocumentTitle': 'c2', 'Content': 'In so doing, they should also rethink the breadth and depth of those practices and support infrastructures. Staff behind demand. It’s time to take advantage of the retrenchment in staff numbers and greater client selectivity to staff their firms in response to demand. Growth goals should return to a method of deriving from––not providing the primary impetus for––firm management goals. Adapt governance. The massive increase in scale of today’s partnerships requires revised firm processes to balance the wishes of distributed, independent partners with the centralized oversight needed to manage growth, ensure risk compliance, and maintain firm cultures. Embrace the return to meritocracy while (re)building internal trust. While firms need to execute short-term actions to get in balance, they must also acknowledge the need to work far harder and longer term to rebuild the trust of the associates who are rightfully wary of their true commitment to the apprenticeship model and employees’ future. To start, they should return to the mentorship model of the past. Reprioritize excellent service and deprioritize financial expectations. Partners need to be reminded that their primary role is to leave their firms stronger and more vibrant than when they joined.', 'DocumentURI': 'https://s3.us-east-1.amazonaws.com/docs-consulting/documents/c2.pdf', 'DocumentAttributes': [{'Key': '_source_uri', 'Value': {'StringValue': 'https://s3.us-east-1.amazonaws.com/docs-consulting/documents/c2.pdf'}}], 'ScoreAttributes': {'ScoreConfidence': 'LOW'}}], 'ResponseMetadata': {'RequestId': '70c626fc-97d1-4fe1-82b4-4c638b284834', 'HTTPStatusCode': 200, 'HTTPHeaders': {'x-amzn-requestid': '70c626fc-97d1-4fe1-82b4-4c638b284834', 'content-type': 'application/x-amz-json-1.1', 'content-length': '3701', 'date': 'Tue, 27 Aug 2024 00:43:55 GMT'}, 'RetryAttempts': 0}}\n",
      "Debug: Content retrieved from Kendra: [Title: c2, URI: https://s3.us-east-1.amazonaws.com/docs-consulting/documents/c2.pdf, Passage content: While most are taking immediate action to regain balance, their focus is on the short term. To address the root of their problems, they should follow the counsel they would give their clients: Take a step back to reassess. Consulting firms should hone back in on the fundamentals, reset around the core principles of top-management consulting, and use transformative innovations, particularly AI, to refocus on their top-management product and service offerings. In so doing, they should also rethink the breadth and depth of those practices and support infrastructures. Staff behind demand. It’s time to take advantage of the retrenchment in staff numbers and greater client selectivity to staff their firms in response to demand. Growth goals should return to a method of deriving from––not providing the primary impetus for––firm management goals. Adapt governance. The massive increase in scale of today’s partnerships requires revised firm processes to balance the wishes of distributed, independent partners with the centralized oversight needed to manage growth, ensure risk compliance, and maintain firm cultures. Embrace the return to meritocracy while (re)building internal trust. While firms need to execute short-term actions to get in balance, they must also acknowledge the need to work far harder and longer term to rebuild the trust of the associates who are rightfully wary of their true commitment to the apprenticeship model and employees’ future.] [Title: c2, URI: https://s3.us-east-1.amazonaws.com/docs-consulting/documents/c2.pdf, Passage content: In so doing, they should also rethink the breadth and depth of those practices and support infrastructures. Staff behind demand. It’s time to take advantage of the retrenchment in staff numbers and greater client selectivity to staff their firms in response to demand. Growth goals should return to a method of deriving from––not providing the primary impetus for––firm management goals. Adapt governance. The massive increase in scale of today’s partnerships requires revised firm processes to balance the wishes of distributed, independent partners with the centralized oversight needed to manage growth, ensure risk compliance, and maintain firm cultures. Embrace the return to meritocracy while (re)building internal trust. While firms need to execute short-term actions to get in balance, they must also acknowledge the need to work far harder and longer term to rebuild the trust of the associates who are rightfully wary of their true commitment to the apprenticeship model and employees’ future. To start, they should return to the mentorship model of the past. Reprioritize excellent service and deprioritize financial expectations. Partners need to be reminded that their primary role is to leave their firms stronger and more vibrant than when they joined.] \n",
      "[Title: c2, URI: https://s3.us-east-1.amazonaws.com/docs-consulting/documents/c2.pdf, Passage content: While most are taking immediate action to regain balance, their focus is on the short term. To address the root of their problems, they should follow the counsel they would give their clients: Take a step back to reassess. Consulting firms should hone back in on the fundamentals, reset around the core principles of top-management consulting, and use transformative innovations, particularly AI, to refocus on their top-management product and service offerings. In so doing, they should also rethink the breadth and depth of those practices and support infrastructures. Staff behind demand. It’s time to take advantage of the retrenchment in staff numbers and greater client selectivity to staff their firms in response to demand. Growth goals should return to a method of deriving from––not providing the primary impetus for––firm management goals. Adapt governance. The massive increase in scale of today’s partnerships requires revised firm processes to balance the wishes of distributed, independent partners with the centralized oversight needed to manage growth, ensure risk compliance, and maintain firm cultures. Embrace the return to meritocracy while (re)building internal trust. While firms need to execute short-term actions to get in balance, they must also acknowledge the need to work far harder and longer term to rebuild the trust of the associates who are rightfully wary of their true commitment to the apprenticeship model and employees’ future.] [Title: c2, URI: https://s3.us-east-1.amazonaws.com/docs-consulting/documents/c2.pdf, Passage content: In so doing, they should also rethink the breadth and depth of those practices and support infrastructures. Staff behind demand. It’s time to take advantage of the retrenchment in staff numbers and greater client selectivity to staff their firms in response to demand. Growth goals should return to a method of deriving from––not providing the primary impetus for––firm management goals. Adapt governance. The massive increase in scale of today’s partnerships requires revised firm processes to balance the wishes of distributed, independent partners with the centralized oversight needed to manage growth, ensure risk compliance, and maintain firm cultures. Embrace the return to meritocracy while (re)building internal trust. While firms need to execute short-term actions to get in balance, they must also acknowledge the need to work far harder and longer term to rebuild the trust of the associates who are rightfully wary of their true commitment to the apprenticeship model and employees’ future. To start, they should return to the mentorship model of the past. Reprioritize excellent service and deprioritize financial expectations. Partners need to be reminded that their primary role is to leave their firms stronger and more vibrant than when they joined.] \n"
     ]
    }
   ],
   "source": [
    "result = kendra_docstore.search(\"tell me about assets in big companies and how they should be managed\")\n",
    "print(result)"
   ]
  },
  {
   "cell_type": "code",
   "execution_count": 36,
   "id": "5415a693-6183-434a-8bfe-a0d615228c30",
   "metadata": {},
   "outputs": [
    {
     "name": "stdout",
     "output_type": "stream",
     "text": [
      "Debug: Full result object from Kendra: {'QueryId': '999ed3d4-6b8d-4040-843c-43b7fe4eb021', 'ResultItems': [{'Id': '999ed3d4-6b8d-4040-843c-43b7fe4eb021-ae339eb5-3688-4dff-a4a1-74f4cac37824', 'DocumentId': 's3://docs-consulting/documents/c1.pdf', 'DocumentTitle': 'c1', 'Content': 'Purposes 1 through 5 are generally considered legitimate functions, though some controversy surrounds purpose 5. Management consultants are less likely to address purposes 6 through 8 explicitly, and their clients are not as likely to request them. But leading firms and their clients are beginning to approach lower-numbered purposes in ways that involve the other goals as well. Goals 6 through 8 are best considered by-products of earlier purposes, not additional objectives that become relevant only when the other purposes have been achieved. They are essential to effective consulting even if not recognized as explicit goals when the engagement begins. Moving up the pyramid toward more ambitious purposes requires increasing sophistication and skill in the processes of consulting and in managing the consultant-client relationship. Sometimes a professional tries to shift the purpose of an engagement even though a shift is not called for; the firm may have lost track of the line between what’s best for the client and what’s best for the consultant’s business. But reputable consultants do not usually try to prolong engagements or enlarge their scope. Wherever on the pyramid the relationship starts, the outsider’s first job is to address the purpose the client requests.', 'DocumentURI': 'https://s3.us-east-1.amazonaws.com/docs-consulting/documents/c1.pdf', 'DocumentAttributes': [{'Key': '_source_uri', 'Value': {'StringValue': 'https://s3.us-east-1.amazonaws.com/docs-consulting/documents/c1.pdf'}}], 'ScoreAttributes': {'ScoreConfidence': 'MEDIUM'}}, {'Id': '999ed3d4-6b8d-4040-843c-43b7fe4eb021-239a082f-8d49-4c43-b051-9f33aca613ab', 'DocumentId': 's3://docs-consulting/documents/c2.pdf', 'DocumentTitle': 'c2', 'Content': 'While justified as aligning incentives with client success, within firms, this structure effectively rewards partners with larger clients able to sustain multi-team, multi-month programs. This fee structure and the overarching drive for growth invariably de-emphasize the importance of mid-size and smaller project-based clients. It also incentivizes taking on riskier client engagements, what many have suggested has led to pushing ethical standards that has tarnished some firms’ reputations. The pursuit of higher compensation One of the most notable shifts is the expectation among partners of increasing financial rewards. Compensation rose annually during this decade-plus of high growth, such that an entire generation of partners has never experienced a downturn. “While there was once an acceptance that consulting yielded moderate financial returns vs. other investment professionals, many now enter the profession focused on significant monetary gain.” And yet, when compared to the outsized results of private equity, venture capital, and hedge fund investment banking professionals, consulting partners have asked, “Why not us?” While there was once an acceptance that consulting yielded moderate financial returns (still considerable by any standard) vs. other investment professionals, many now enter the profession focused on significant monetary gain. As compensation discussions have ramped up, so, too, has the drive for growth intensified in dialectic fashion.', 'DocumentURI': 'https://s3.us-east-1.amazonaws.com/docs-consulting/documents/c2.pdf', 'DocumentAttributes': [{'Key': '_source_uri', 'Value': {'StringValue': 'https://s3.us-east-1.amazonaws.com/docs-consulting/documents/c2.pdf'}}], 'ScoreAttributes': {'ScoreConfidence': 'MEDIUM'}}], 'ResponseMetadata': {'RequestId': 'd7c8476e-ab7e-408a-9779-2d8719530f35', 'HTTPStatusCode': 200, 'HTTPHeaders': {'x-amzn-requestid': 'd7c8476e-ab7e-408a-9779-2d8719530f35', 'content-type': 'application/x-amz-json-1.1', 'content-length': '3728', 'date': 'Tue, 27 Aug 2024 00:44:15 GMT'}, 'RetryAttempts': 0}}\n",
      "Debug: Content retrieved from Kendra: [Title: c1, URI: https://s3.us-east-1.amazonaws.com/docs-consulting/documents/c1.pdf, Passage content: Purposes 1 through 5 are generally considered legitimate functions, though some controversy surrounds purpose 5. Management consultants are less likely to address purposes 6 through 8 explicitly, and their clients are not as likely to request them. But leading firms and their clients are beginning to approach lower-numbered purposes in ways that involve the other goals as well. Goals 6 through 8 are best considered by-products of earlier purposes, not additional objectives that become relevant only when the other purposes have been achieved. They are essential to effective consulting even if not recognized as explicit goals when the engagement begins. Moving up the pyramid toward more ambitious purposes requires increasing sophistication and skill in the processes of consulting and in managing the consultant-client relationship. Sometimes a professional tries to shift the purpose of an engagement even though a shift is not called for; the firm may have lost track of the line between what’s best for the client and what’s best for the consultant’s business. But reputable consultants do not usually try to prolong engagements or enlarge their scope. Wherever on the pyramid the relationship starts, the outsider’s first job is to address the purpose the client requests.] [Title: c2, URI: https://s3.us-east-1.amazonaws.com/docs-consulting/documents/c2.pdf, Passage content: While justified as aligning incentives with client success, within firms, this structure effectively rewards partners with larger clients able to sustain multi-team, multi-month programs. This fee structure and the overarching drive for growth invariably de-emphasize the importance of mid-size and smaller project-based clients. It also incentivizes taking on riskier client engagements, what many have suggested has led to pushing ethical standards that has tarnished some firms’ reputations. The pursuit of higher compensation One of the most notable shifts is the expectation among partners of increasing financial rewards. Compensation rose annually during this decade-plus of high growth, such that an entire generation of partners has never experienced a downturn. “While there was once an acceptance that consulting yielded moderate financial returns vs. other investment professionals, many now enter the profession focused on significant monetary gain.” And yet, when compared to the outsized results of private equity, venture capital, and hedge fund investment banking professionals, consulting partners have asked, “Why not us?” While there was once an acceptance that consulting yielded moderate financial returns (still considerable by any standard) vs. other investment professionals, many now enter the profession focused on significant monetary gain. As compensation discussions have ramped up, so, too, has the drive for growth intensified in dialectic fashion.] \n",
      "[Title: c1, URI: https://s3.us-east-1.amazonaws.com/docs-consulting/documents/c1.pdf, Passage content: Purposes 1 through 5 are generally considered legitimate functions, though some controversy surrounds purpose 5. Management consultants are less likely to address purposes 6 through 8 explicitly, and their clients are not as likely to request them. But leading firms and their clients are beginning to approach lower-numbered purposes in ways that involve the other goals as well. Goals 6 through 8 are best considered by-products of earlier purposes, not additional objectives that become relevant only when the other purposes have been achieved. They are essential to effective consulting even if not recognized as explicit goals when the engagement begins. Moving up the pyramid toward more ambitious purposes requires increasing sophistication and skill in the processes of consulting and in managing the consultant-client relationship. Sometimes a professional tries to shift the purpose of an engagement even though a shift is not called for; the firm may have lost track of the line between what’s best for the client and what’s best for the consultant’s business. But reputable consultants do not usually try to prolong engagements or enlarge their scope. Wherever on the pyramid the relationship starts, the outsider’s first job is to address the purpose the client requests.] [Title: c2, URI: https://s3.us-east-1.amazonaws.com/docs-consulting/documents/c2.pdf, Passage content: While justified as aligning incentives with client success, within firms, this structure effectively rewards partners with larger clients able to sustain multi-team, multi-month programs. This fee structure and the overarching drive for growth invariably de-emphasize the importance of mid-size and smaller project-based clients. It also incentivizes taking on riskier client engagements, what many have suggested has led to pushing ethical standards that has tarnished some firms’ reputations. The pursuit of higher compensation One of the most notable shifts is the expectation among partners of increasing financial rewards. Compensation rose annually during this decade-plus of high growth, such that an entire generation of partners has never experienced a downturn. “While there was once an acceptance that consulting yielded moderate financial returns vs. other investment professionals, many now enter the profession focused on significant monetary gain.” And yet, when compared to the outsized results of private equity, venture capital, and hedge fund investment banking professionals, consulting partners have asked, “Why not us?” While there was once an acceptance that consulting yielded moderate financial returns (still considerable by any standard) vs. other investment professionals, many now enter the profession focused on significant monetary gain. As compensation discussions have ramped up, so, too, has the drive for growth intensified in dialectic fashion.] \n"
     ]
    }
   ],
   "source": [
    "result = kendra_docstore.search(\"how technology is shifting the consulting landscape\")\n",
    "print(result)"
   ]
  },
  {
   "cell_type": "code",
   "execution_count": 9,
   "id": "05b202e9-800f-4748-9786-0c3f6fbc404e",
   "metadata": {},
   "outputs": [],
   "source": [
    "class ContentHandler(LLMContentHandler):\n",
    "    content_type = \"application/json\"\n",
    "    accepts = \"application/json\"\n",
    "    def transform_input(self, prompt: str, model_kwargs: Dict) -> bytes:\n",
    "        dialog = [{\"role\": \"user\", \"content\": prompt}]\n",
    "        input_str = json.dumps({ \"inputs\" : [dialog], **model_kwargs})\n",
    "        return input_str.encode('utf-8')\n",
    "    \n",
    "    def transform_output(self, output: bytes) -> str:\n",
    "        model_predictions = json.loads(output.read())\n",
    "        return model_predictions[0]['generation']['content']\n",
    "content_handler = ContentHandler()"
   ]
  },
  {
   "cell_type": "code",
   "execution_count": 10,
   "id": "0f1d5444-52fa-4473-8772-f60855528d02",
   "metadata": {},
   "outputs": [],
   "source": [
    "from langchain.agents import ZeroShotAgent, Tool, AgentExecutor ,ReActChain\n",
    "from langchain import  LLMChain"
   ]
  },
  {
   "cell_type": "code",
   "execution_count": 17,
   "id": "076a653e-4017-42f7-a8c9-e6e22495d833",
   "metadata": {},
   "outputs": [],
   "source": [
    "tools = [\n",
    "    Tool(\n",
    "        name=\"Search\",\n",
    "        func=kendra_docstore.search,\n",
    "        description=\"useful for when you need to answer legal questions regarding contract ,regulations, policies\"\n",
    "    )\n",
    "]\n",
    "\n",
    "#endpoint_name=\"jumpstart-dft-meta-textgeneration-llama-2-70b-f\",\n",
    "llm = SagemakerEndpoint(\n",
    "            endpoint_name=\"jumpstart-dft-meta-textgeneration-llama-2-70b-f\",\n",
    "            region_name=\"us-east-1\",\n",
    "            content_handler=content_handler,\n",
    "            endpoint_kwargs={'CustomAttributes':'accept_eula=true'}\n",
    "    )"
   ]
  },
  {
   "cell_type": "code",
   "execution_count": 22,
   "id": "49e0aba9-5450-43bc-9fe1-a55ef4de4ab5",
   "metadata": {},
   "outputs": [],
   "source": [
    "class CustomOutputParser(AgentOutputParser):\n",
    "    ai_prefix: str = \"AI\"\n",
    "    def get_format_instructions(self) -> str:\n",
    "        return FORMAT_INSTRUCTIONS\n",
    "\n",
    "    def parse(self, text: str) -> Union[AgentAction, AgentFinish]:\n",
    "        if f\"{self.ai_prefix}:\" in text:\n",
    "            return AgentFinish(\n",
    "                {\"output\": text.split(f\"{self.ai_prefix}:\")[-1].strip()}, text\n",
    "            )\n",
    "        regex = r\"Action: (.*?)[\\n]*Action Input: ((.|\\n)*)\"\n",
    "        match = re.search(regex, text)\n",
    "        if not match:\n",
    "            \n",
    "            print(\"text :\",text)\n",
    "            raise OutputParserException(f\"Could not parse LLM output: `{text}`\")\n",
    "        action = match.group(1)\n",
    "        action_input = match.group(2)\n",
    "        return AgentAction(action.strip(), action_input.strip(\" \").strip('\"'), text)"
   ]
  },
  {
   "cell_type": "code",
   "execution_count": 37,
   "id": "a344159f-c831-4801-b616-a4cf6674be1a",
   "metadata": {},
   "outputs": [
    {
     "name": "stdout",
     "output_type": "stream",
     "text": [
      "Requirement already satisfied: langchain in /opt/homebrew/Caskroom/miniconda/base/lib/python3.12/site-packages (0.2.14)\n",
      "Requirement already satisfied: PyYAML>=5.3 in /opt/homebrew/Caskroom/miniconda/base/lib/python3.12/site-packages (from langchain) (6.0.2)\n",
      "Requirement already satisfied: SQLAlchemy<3,>=1.4 in /opt/homebrew/Caskroom/miniconda/base/lib/python3.12/site-packages (from langchain) (2.0.32)\n",
      "Requirement already satisfied: aiohttp<4.0.0,>=3.8.3 in /opt/homebrew/Caskroom/miniconda/base/lib/python3.12/site-packages (from langchain) (3.10.5)\n",
      "Requirement already satisfied: langchain-core<0.3.0,>=0.2.32 in /opt/homebrew/Caskroom/miniconda/base/lib/python3.12/site-packages (from langchain) (0.2.35)\n",
      "Requirement already satisfied: langchain-text-splitters<0.3.0,>=0.2.0 in /opt/homebrew/Caskroom/miniconda/base/lib/python3.12/site-packages (from langchain) (0.2.2)\n",
      "Requirement already satisfied: langsmith<0.2.0,>=0.1.17 in /opt/homebrew/Caskroom/miniconda/base/lib/python3.12/site-packages (from langchain) (0.1.104)\n",
      "Requirement already satisfied: numpy<2.0.0,>=1.26.0 in /opt/homebrew/Caskroom/miniconda/base/lib/python3.12/site-packages (from langchain) (1.26.4)\n",
      "Requirement already satisfied: pydantic<3,>=1 in /opt/homebrew/Caskroom/miniconda/base/lib/python3.12/site-packages (from langchain) (2.8.2)\n",
      "Requirement already satisfied: requests<3,>=2 in /opt/homebrew/Caskroom/miniconda/base/lib/python3.12/site-packages (from langchain) (2.31.0)\n",
      "Requirement already satisfied: tenacity!=8.4.0,<9.0.0,>=8.1.0 in /opt/homebrew/Caskroom/miniconda/base/lib/python3.12/site-packages (from langchain) (8.5.0)\n",
      "Requirement already satisfied: aiohappyeyeballs>=2.3.0 in /opt/homebrew/Caskroom/miniconda/base/lib/python3.12/site-packages (from aiohttp<4.0.0,>=3.8.3->langchain) (2.4.0)\n",
      "Requirement already satisfied: aiosignal>=1.1.2 in /opt/homebrew/Caskroom/miniconda/base/lib/python3.12/site-packages (from aiohttp<4.0.0,>=3.8.3->langchain) (1.3.1)\n",
      "Requirement already satisfied: attrs>=17.3.0 in /opt/homebrew/Caskroom/miniconda/base/lib/python3.12/site-packages (from aiohttp<4.0.0,>=3.8.3->langchain) (24.2.0)\n",
      "Requirement already satisfied: frozenlist>=1.1.1 in /opt/homebrew/Caskroom/miniconda/base/lib/python3.12/site-packages (from aiohttp<4.0.0,>=3.8.3->langchain) (1.4.1)\n",
      "Requirement already satisfied: multidict<7.0,>=4.5 in /opt/homebrew/Caskroom/miniconda/base/lib/python3.12/site-packages (from aiohttp<4.0.0,>=3.8.3->langchain) (6.0.5)\n",
      "Requirement already satisfied: yarl<2.0,>=1.0 in /opt/homebrew/Caskroom/miniconda/base/lib/python3.12/site-packages (from aiohttp<4.0.0,>=3.8.3->langchain) (1.9.4)\n",
      "Requirement already satisfied: jsonpatch<2.0,>=1.33 in /opt/homebrew/Caskroom/miniconda/base/lib/python3.12/site-packages (from langchain-core<0.3.0,>=0.2.32->langchain) (1.33)\n",
      "Requirement already satisfied: packaging<25,>=23.2 in /opt/homebrew/Caskroom/miniconda/base/lib/python3.12/site-packages (from langchain-core<0.3.0,>=0.2.32->langchain) (23.2)\n",
      "Requirement already satisfied: typing-extensions>=4.7 in /opt/homebrew/Caskroom/miniconda/base/lib/python3.12/site-packages (from langchain-core<0.3.0,>=0.2.32->langchain) (4.12.2)\n",
      "Requirement already satisfied: httpx<1,>=0.23.0 in /opt/homebrew/Caskroom/miniconda/base/lib/python3.12/site-packages (from langsmith<0.2.0,>=0.1.17->langchain) (0.27.0)\n",
      "Requirement already satisfied: orjson<4.0.0,>=3.9.14 in /opt/homebrew/Caskroom/miniconda/base/lib/python3.12/site-packages (from langsmith<0.2.0,>=0.1.17->langchain) (3.10.7)\n",
      "Requirement already satisfied: annotated-types>=0.4.0 in /opt/homebrew/Caskroom/miniconda/base/lib/python3.12/site-packages (from pydantic<3,>=1->langchain) (0.7.0)\n",
      "Requirement already satisfied: pydantic-core==2.20.1 in /opt/homebrew/Caskroom/miniconda/base/lib/python3.12/site-packages (from pydantic<3,>=1->langchain) (2.20.1)\n",
      "Requirement already satisfied: charset-normalizer<4,>=2 in /opt/homebrew/Caskroom/miniconda/base/lib/python3.12/site-packages (from requests<3,>=2->langchain) (2.0.4)\n",
      "Requirement already satisfied: idna<4,>=2.5 in /opt/homebrew/Caskroom/miniconda/base/lib/python3.12/site-packages (from requests<3,>=2->langchain) (3.4)\n",
      "Requirement already satisfied: urllib3<3,>=1.21.1 in /opt/homebrew/Caskroom/miniconda/base/lib/python3.12/site-packages (from requests<3,>=2->langchain) (2.1.0)\n",
      "Requirement already satisfied: certifi>=2017.4.17 in /opt/homebrew/Caskroom/miniconda/base/lib/python3.12/site-packages (from requests<3,>=2->langchain) (2024.2.2)\n",
      "Requirement already satisfied: anyio in /opt/homebrew/Caskroom/miniconda/base/lib/python3.12/site-packages (from httpx<1,>=0.23.0->langsmith<0.2.0,>=0.1.17->langchain) (4.4.0)\n",
      "Requirement already satisfied: httpcore==1.* in /opt/homebrew/Caskroom/miniconda/base/lib/python3.12/site-packages (from httpx<1,>=0.23.0->langsmith<0.2.0,>=0.1.17->langchain) (1.0.5)\n",
      "Requirement already satisfied: sniffio in /opt/homebrew/Caskroom/miniconda/base/lib/python3.12/site-packages (from httpx<1,>=0.23.0->langsmith<0.2.0,>=0.1.17->langchain) (1.3.1)\n",
      "Requirement already satisfied: h11<0.15,>=0.13 in /opt/homebrew/Caskroom/miniconda/base/lib/python3.12/site-packages (from httpcore==1.*->httpx<1,>=0.23.0->langsmith<0.2.0,>=0.1.17->langchain) (0.14.0)\n",
      "Requirement already satisfied: jsonpointer>=1.9 in /opt/homebrew/Caskroom/miniconda/base/lib/python3.12/site-packages (from jsonpatch<2.0,>=1.33->langchain-core<0.3.0,>=0.2.32->langchain) (2.1)\n",
      "Collecting langchain-openai\n",
      "  Downloading langchain_openai-0.1.22-py3-none-any.whl.metadata (2.6 kB)\n",
      "Requirement already satisfied: langchain-core<0.3.0,>=0.2.33 in /opt/homebrew/Caskroom/miniconda/base/lib/python3.12/site-packages (from langchain-openai) (0.2.35)\n",
      "Collecting openai<2.0.0,>=1.40.0 (from langchain-openai)\n",
      "  Downloading openai-1.42.0-py3-none-any.whl.metadata (22 kB)\n",
      "Collecting tiktoken<1,>=0.7 (from langchain-openai)\n",
      "  Downloading tiktoken-0.7.0-cp312-cp312-macosx_11_0_arm64.whl.metadata (6.6 kB)\n",
      "Requirement already satisfied: PyYAML>=5.3 in /opt/homebrew/Caskroom/miniconda/base/lib/python3.12/site-packages (from langchain-core<0.3.0,>=0.2.33->langchain-openai) (6.0.2)\n",
      "Requirement already satisfied: jsonpatch<2.0,>=1.33 in /opt/homebrew/Caskroom/miniconda/base/lib/python3.12/site-packages (from langchain-core<0.3.0,>=0.2.33->langchain-openai) (1.33)\n",
      "Requirement already satisfied: langsmith<0.2.0,>=0.1.75 in /opt/homebrew/Caskroom/miniconda/base/lib/python3.12/site-packages (from langchain-core<0.3.0,>=0.2.33->langchain-openai) (0.1.104)\n",
      "Requirement already satisfied: packaging<25,>=23.2 in /opt/homebrew/Caskroom/miniconda/base/lib/python3.12/site-packages (from langchain-core<0.3.0,>=0.2.33->langchain-openai) (23.2)\n",
      "Requirement already satisfied: pydantic<3,>=1 in /opt/homebrew/Caskroom/miniconda/base/lib/python3.12/site-packages (from langchain-core<0.3.0,>=0.2.33->langchain-openai) (2.8.2)\n",
      "Requirement already satisfied: tenacity!=8.4.0,<9.0.0,>=8.1.0 in /opt/homebrew/Caskroom/miniconda/base/lib/python3.12/site-packages (from langchain-core<0.3.0,>=0.2.33->langchain-openai) (8.5.0)\n",
      "Requirement already satisfied: typing-extensions>=4.7 in /opt/homebrew/Caskroom/miniconda/base/lib/python3.12/site-packages (from langchain-core<0.3.0,>=0.2.33->langchain-openai) (4.12.2)\n",
      "Requirement already satisfied: anyio<5,>=3.5.0 in /opt/homebrew/Caskroom/miniconda/base/lib/python3.12/site-packages (from openai<2.0.0,>=1.40.0->langchain-openai) (4.4.0)\n",
      "Requirement already satisfied: distro<2,>=1.7.0 in /opt/homebrew/Caskroom/miniconda/base/lib/python3.12/site-packages (from openai<2.0.0,>=1.40.0->langchain-openai) (1.8.0)\n",
      "Requirement already satisfied: httpx<1,>=0.23.0 in /opt/homebrew/Caskroom/miniconda/base/lib/python3.12/site-packages (from openai<2.0.0,>=1.40.0->langchain-openai) (0.27.0)\n",
      "Collecting jiter<1,>=0.4.0 (from openai<2.0.0,>=1.40.0->langchain-openai)\n",
      "  Downloading jiter-0.5.0-cp312-cp312-macosx_11_0_arm64.whl.metadata (3.6 kB)\n",
      "Requirement already satisfied: sniffio in /opt/homebrew/Caskroom/miniconda/base/lib/python3.12/site-packages (from openai<2.0.0,>=1.40.0->langchain-openai) (1.3.1)\n",
      "Requirement already satisfied: tqdm>4 in /opt/homebrew/Caskroom/miniconda/base/lib/python3.12/site-packages (from openai<2.0.0,>=1.40.0->langchain-openai) (4.65.0)\n",
      "Collecting regex>=2022.1.18 (from tiktoken<1,>=0.7->langchain-openai)\n",
      "  Downloading regex-2024.7.24-cp312-cp312-macosx_11_0_arm64.whl.metadata (40 kB)\n",
      "\u001b[2K     \u001b[90m━━━━━━━━━━━━━━━━━━━━━━━━━━━━━━━━━━━━━━━━\u001b[0m \u001b[32m40.5/40.5 kB\u001b[0m \u001b[31m2.4 MB/s\u001b[0m eta \u001b[36m0:00:00\u001b[0m\n",
      "\u001b[?25hRequirement already satisfied: requests>=2.26.0 in /opt/homebrew/Caskroom/miniconda/base/lib/python3.12/site-packages (from tiktoken<1,>=0.7->langchain-openai) (2.31.0)\n",
      "Requirement already satisfied: idna>=2.8 in /opt/homebrew/Caskroom/miniconda/base/lib/python3.12/site-packages (from anyio<5,>=3.5.0->openai<2.0.0,>=1.40.0->langchain-openai) (3.4)\n",
      "Requirement already satisfied: certifi in /opt/homebrew/Caskroom/miniconda/base/lib/python3.12/site-packages (from httpx<1,>=0.23.0->openai<2.0.0,>=1.40.0->langchain-openai) (2024.2.2)\n",
      "Requirement already satisfied: httpcore==1.* in /opt/homebrew/Caskroom/miniconda/base/lib/python3.12/site-packages (from httpx<1,>=0.23.0->openai<2.0.0,>=1.40.0->langchain-openai) (1.0.5)\n",
      "Requirement already satisfied: h11<0.15,>=0.13 in /opt/homebrew/Caskroom/miniconda/base/lib/python3.12/site-packages (from httpcore==1.*->httpx<1,>=0.23.0->openai<2.0.0,>=1.40.0->langchain-openai) (0.14.0)\n",
      "Requirement already satisfied: jsonpointer>=1.9 in /opt/homebrew/Caskroom/miniconda/base/lib/python3.12/site-packages (from jsonpatch<2.0,>=1.33->langchain-core<0.3.0,>=0.2.33->langchain-openai) (2.1)\n",
      "Requirement already satisfied: orjson<4.0.0,>=3.9.14 in /opt/homebrew/Caskroom/miniconda/base/lib/python3.12/site-packages (from langsmith<0.2.0,>=0.1.75->langchain-core<0.3.0,>=0.2.33->langchain-openai) (3.10.7)\n",
      "Requirement already satisfied: annotated-types>=0.4.0 in /opt/homebrew/Caskroom/miniconda/base/lib/python3.12/site-packages (from pydantic<3,>=1->langchain-core<0.3.0,>=0.2.33->langchain-openai) (0.7.0)\n",
      "Requirement already satisfied: pydantic-core==2.20.1 in /opt/homebrew/Caskroom/miniconda/base/lib/python3.12/site-packages (from pydantic<3,>=1->langchain-core<0.3.0,>=0.2.33->langchain-openai) (2.20.1)\n",
      "Requirement already satisfied: charset-normalizer<4,>=2 in /opt/homebrew/Caskroom/miniconda/base/lib/python3.12/site-packages (from requests>=2.26.0->tiktoken<1,>=0.7->langchain-openai) (2.0.4)\n",
      "Requirement already satisfied: urllib3<3,>=1.21.1 in /opt/homebrew/Caskroom/miniconda/base/lib/python3.12/site-packages (from requests>=2.26.0->tiktoken<1,>=0.7->langchain-openai) (2.1.0)\n",
      "Downloading langchain_openai-0.1.22-py3-none-any.whl (51 kB)\n",
      "\u001b[2K   \u001b[90m━━━━━━━━━━━━━━━━━━━━━━━━━━━━━━━━━━━━━━━━\u001b[0m \u001b[32m52.0/52.0 kB\u001b[0m \u001b[31m3.8 MB/s\u001b[0m eta \u001b[36m0:00:00\u001b[0m\n",
      "\u001b[?25hDownloading openai-1.42.0-py3-none-any.whl (362 kB)\n",
      "\u001b[2K   \u001b[90m━━━━━━━━━━━━━━━━━━━━━━━━━━━━━━━━━━━━━━━━\u001b[0m \u001b[32m362.9/362.9 kB\u001b[0m \u001b[31m8.3 MB/s\u001b[0m eta \u001b[36m0:00:00\u001b[0m:00:01\u001b[0m\n",
      "\u001b[?25hDownloading tiktoken-0.7.0-cp312-cp312-macosx_11_0_arm64.whl (906 kB)\n",
      "\u001b[2K   \u001b[90m━━━━━━━━━━━━━━━━━━━━━━━━━━━━━━━━━━━━━━━━\u001b[0m \u001b[32m906.7/906.7 kB\u001b[0m \u001b[31m8.1 MB/s\u001b[0m eta \u001b[36m0:00:00\u001b[0m00:01\u001b[0m:00:01\u001b[0m\n",
      "\u001b[?25hDownloading jiter-0.5.0-cp312-cp312-macosx_11_0_arm64.whl (296 kB)\n",
      "\u001b[2K   \u001b[90m━━━━━━━━━━━━━━━━━━━━━━━━━━━━━━━━━━━━━━━━\u001b[0m \u001b[32m297.0/297.0 kB\u001b[0m \u001b[31m16.6 MB/s\u001b[0m eta \u001b[36m0:00:00\u001b[0m\n",
      "\u001b[?25hDownloading regex-2024.7.24-cp312-cp312-macosx_11_0_arm64.whl (279 kB)\n",
      "\u001b[2K   \u001b[90m━━━━━━━━━━━━━━━━━━━━━━━━━━━━━━━━━━━━━━━━\u001b[0m \u001b[32m279.1/279.1 kB\u001b[0m \u001b[31m21.9 MB/s\u001b[0m eta \u001b[36m0:00:00\u001b[0m\n",
      "\u001b[?25hInstalling collected packages: regex, jiter, tiktoken, openai, langchain-openai\n",
      "Successfully installed jiter-0.5.0 langchain-openai-0.1.22 openai-1.42.0 regex-2024.7.24 tiktoken-0.7.0\n"
     ]
    }
   ],
   "source": [
    "!pip install --upgrade langchain\n",
    "!pip install -U langchain-openai"
   ]
  },
  {
   "cell_type": "code",
   "execution_count": null,
   "id": "d82e0029-cdf0-4a4e-b53e-84230d1f4d8a",
   "metadata": {},
   "outputs": [],
   "source": [
    "from langchain.prompts import PromptTemplate\n",
    "from langchain.agents import LLMSingleActionAgent, AgentExecutor, Tool\n",
    "from langchain_openai import OpenAI\n",
    "from langchain.chains import LLMChain\n",
    "from langchain.schema import AgentAction, AgentFinish\n",
    "import re\n",
    "\n",
    "# init the llm\n",
    "llm = OpenAI(openai_api_key=\"your-openai-api-key\", model=\"gpt-3.5-turbo\", temperature=0)\n",
    "\n",
    "# defining tools\n",
    "tools = [\n",
    "    Tool(\n",
    "        name=\"SearchAPI\",\n",
    "        func=lambda x: \"Searching...\",\n",
    "        description=\"A tool to search the internet for information.\",\n",
    "    ),\n",
    "]\n",
    "\n",
    "# template for agent's behavior and decision-making process\n",
    "template = \"\"\"You are a helpful assistant with access to the following tools:\n",
    "\n",
    "{tools}\n",
    "\n",
    "Utilize these tools to assist with various tasks. Keep a record of your actions in the scratchpad.\n",
    "\n",
    "{agent_scratchpad}\n",
    "\n",
    "Please respond to the following input: {input}\n",
    "\n",
    "Thought: Let's approach this systematically:\n",
    "1) First, I should introduce myself politely.\n",
    "2) Then, I'll address the user's specific question or request.\n",
    "\n",
    "Action: None\n",
    "Action Input: N/A\n",
    "\n",
    "Response: Greetings! I'm an AI assistant developed by Anthropic. It's a pleasure to meet you. How may I be of assistance today?\"\"\"\n",
    "\n",
    "prompt = PromptTemplate.from_template(template)\n",
    "\n",
    "# custom output parser\n",
    "class CustomOutputParser(AgentOutputParser):\n",
    "    def parse(self, llm_output):\n",
    "        \"\"\"Analyzing LLM output\"\"\"\n",
    "        match = re.search(r\"Action: (.*?)\\nObservation: (.*?)(\\n|$)\", llm_output, re.DOTALL)\n",
    "        if match:\n",
    "            return AgentAction(tool=match.group(1).strip(), tool_input=match.group(2).strip())\n",
    "        else:\n",
    "            return AgentFinish(return_values={\"output\": llm_output.strip()}, log=llm_output)\n",
    "\n",
    "output_parser = CustomOutputParser()\n",
    "\n",
    "# creating LLMChain\n",
    "llm_chain = LLMChain(llm=llm, prompt=prompt)\n",
    "\n",
    "# initializing LLMSingleActionAgent\n",
    "agent = LLMSingleActionAgent(\n",
    "    llm_chain=llm_chain,\n",
    "    output_parser=output_parser,\n",
    "    stop=[\"\\nObservation:\"],\n",
    "    allowed_tools=[tool.name for tool in tools]\n",
    ")\n",
    "\n",
    "# setting up the AgentExecutor\n",
    "agent_executor = AgentExecutor(agent=agent, tools=tools)\n",
    "\n",
    "# preparing input data for the agent\n",
    "input_data = {\n",
    "    \"input\": \"I'm Mihika, who are you?\",\n",
    "    \"agent_scratchpad\": \"\",\n",
    "    \"tools\": \"\\n\".join([f\"- {tool.name}: {tool.description}\" for tool in tools])\n",
    "}\n",
    "\n",
    "# executing agent\n",
    "response = agent_executor.run(input_data)\n",
    "print(response)"
   ]
  }
 ],
 "metadata": {
  "kernelspec": {
   "display_name": "Python 3 (ipykernel)",
   "language": "python",
   "name": "python3"
  },
  "language_info": {
   "codemirror_mode": {
    "name": "ipython",
    "version": 3
   },
   "file_extension": ".py",
   "mimetype": "text/x-python",
   "name": "python",
   "nbconvert_exporter": "python",
   "pygments_lexer": "ipython3",
   "version": "3.12.3"
  }
 },
 "nbformat": 4,
 "nbformat_minor": 5
}
